{
 "cells": [
  {
   "cell_type": "markdown",
   "id": "9fa46aee-ded4-49d9-9f3a-965e2b72bc16",
   "metadata": {},
   "source": [
    "## Using scMulan to annotate cell types in Heart, Lung, Liver, Bone marrow, Blood, Brain, and Thymus"
   ]
  },
  {
   "cell_type": "markdown",
   "id": "12f61ec3-f21b-4fce-a652-3172e7b8c7fa",
   "metadata": {},
   "source": [
    "#### we provide a liver dataset sampled (percentage of 20%) from Suo C, 2022 (doi/10.1126/science.abo0510)\n",
    "you can download the sampled dataset for this tutorial from: https://cloud.tsinghua.edu.cn/f/45a7fd2a27e543539f59/?dl=1  \n",
    "ckpt could be downloaded from: https://cloud.tsinghua.edu.cn/f/2250c5df51034b2e9a85/?dl=1"
   ]
  },
  {
   "cell_type": "code",
   "execution_count": 1,
   "id": "6520267f",
   "metadata": {},
   "outputs": [
    {
     "data": {
      "text/plain": [
       "True"
      ]
     },
     "execution_count": 1,
     "metadata": {},
     "output_type": "execute_result"
    }
   ],
   "source": [
    "import torch\n",
    "torch.cuda.is_available()"
   ]
  },
  {
   "cell_type": "code",
   "execution_count": 2,
   "id": "60cc85ea",
   "metadata": {},
   "outputs": [
    {
     "ename": "ModuleNotFoundError",
     "evalue": "No module named 'transformers'",
     "output_type": "error",
     "traceback": [
      "\u001b[1;31m---------------------------------------------------------------------------\u001b[0m",
      "\u001b[1;31mModuleNotFoundError\u001b[0m                       Traceback (most recent call last)",
      "Cell \u001b[1;32mIn[2], line 6\u001b[0m\n\u001b[0;32m      3\u001b[0m \u001b[38;5;66;03m#os.environ[\"CUDA_VISIBLE_DEVICES\"] = \"-1\" # if use CPU only\u001b[39;00m\n\u001b[0;32m      4\u001b[0m \u001b[38;5;28;01mimport\u001b[39;00m \u001b[38;5;21;01mscanpy\u001b[39;00m \u001b[38;5;28;01mas\u001b[39;00m \u001b[38;5;21;01msc\u001b[39;00m\n\u001b[1;32m----> 6\u001b[0m \u001b[38;5;28;01mimport\u001b[39;00m \u001b[38;5;21;01mscMulan\u001b[39;00m\n\u001b[0;32m      7\u001b[0m \u001b[38;5;28;01mfrom\u001b[39;00m \u001b[38;5;21;01mscMulan\u001b[39;00m \u001b[38;5;28;01mimport\u001b[39;00m GeneSymbolUniform\n",
      "File \u001b[1;32mc:\\Users\\demo123\\Desktop\\科研\\scmulan\\scMulan\\__init__.py:1\u001b[0m\n\u001b[1;32m----> 1\u001b[0m \u001b[38;5;28;01mfrom\u001b[39;00m \u001b[38;5;21;01m.\u001b[39;00m\u001b[38;5;21;01mmodel\u001b[39;00m\u001b[38;5;21;01m.\u001b[39;00m\u001b[38;5;21;01mmodel\u001b[39;00m \u001b[38;5;28;01mimport\u001b[39;00m MulanConfig, scMulanModel\n\u001b[0;32m      2\u001b[0m \u001b[38;5;28;01mfrom\u001b[39;00m \u001b[38;5;21;01m.\u001b[39;00m\u001b[38;5;21;01mmodel\u001b[39;00m\u001b[38;5;21;01m.\u001b[39;00m\u001b[38;5;21;01mmodel_kvcache\u001b[39;00m \u001b[38;5;28;01mimport\u001b[39;00m scMulanModel_kv\n\u001b[0;32m      3\u001b[0m \u001b[38;5;28;01mfrom\u001b[39;00m \u001b[38;5;21;01m.\u001b[39;00m\u001b[38;5;21;01mutils\u001b[39;00m\u001b[38;5;21;01m.\u001b[39;00m\u001b[38;5;21;01mhf_tokenizer\u001b[39;00m \u001b[38;5;28;01mimport\u001b[39;00m scMulanTokenizer\n",
      "File \u001b[1;32mc:\\Users\\demo123\\Desktop\\科研\\scmulan\\scMulan\\model\\model.py:10\u001b[0m\n\u001b[0;32m      8\u001b[0m \u001b[38;5;28;01mimport\u001b[39;00m \u001b[38;5;21;01mtorch\u001b[39;00m\u001b[38;5;21;01m.\u001b[39;00m\u001b[38;5;21;01mnn\u001b[39;00m \u001b[38;5;28;01mas\u001b[39;00m \u001b[38;5;21;01mnn\u001b[39;00m\n\u001b[0;32m      9\u001b[0m \u001b[38;5;28;01mfrom\u001b[39;00m \u001b[38;5;21;01mtorch\u001b[39;00m\u001b[38;5;21;01m.\u001b[39;00m\u001b[38;5;21;01mnn\u001b[39;00m \u001b[38;5;28;01mimport\u001b[39;00m functional \u001b[38;5;28;01mas\u001b[39;00m F\n\u001b[1;32m---> 10\u001b[0m \u001b[38;5;28;01mfrom\u001b[39;00m \u001b[38;5;21;01mtransformers\u001b[39;00m\u001b[38;5;21;01m.\u001b[39;00m\u001b[38;5;21;01mgeneration\u001b[39;00m\u001b[38;5;21;01m.\u001b[39;00m\u001b[38;5;21;01mutils\u001b[39;00m \u001b[38;5;28;01mimport\u001b[39;00m SampleDecoderOnlyOutput\n\u001b[0;32m     13\u001b[0m \u001b[38;5;28;01mclass\u001b[39;00m \u001b[38;5;21;01mLayerNorm\u001b[39;00m(nn\u001b[38;5;241m.\u001b[39mModule):\n\u001b[0;32m     15\u001b[0m     \u001b[38;5;28;01mdef\u001b[39;00m \u001b[38;5;21m__init__\u001b[39m(\u001b[38;5;28mself\u001b[39m, ndim, bias):\n",
      "\u001b[1;31mModuleNotFoundError\u001b[0m: No module named 'transformers'"
     ]
    }
   ],
   "source": [
    "import os\n",
    "os.environ[\"CUDA_VISIBLE_DEVICES\"] = \"0\" ## set your available devices, each use ~2G GPU-MEMORY\n",
    "#os.environ[\"CUDA_VISIBLE_DEVICES\"] = \"-1\" # if use CPU only\n",
    "import scanpy as sc\n",
    "\n",
    "import scMulan\n",
    "from scMulan import GeneSymbolUniform"
   ]
  },
  {
   "cell_type": "markdown",
   "id": "19ea9056-1ffa-4e04-b997-367494004cf4",
   "metadata": {},
   "source": [
    "## 1. load h5ad\n",
    "It's recommended that you use h5ad here with raw count (and after your QC)"
   ]
  },
  {
   "cell_type": "code",
   "execution_count": null,
   "id": "b306ffe4-7aae-4d3b-ac2e-647b90bbd8d0",
   "metadata": {},
   "outputs": [],
   "source": [
    "## adata = sc.read('Data/liver.h5ad', backup_url='https://cloud.tsinghua.edu.cn/f/45a7fd2a27e543539f59/?dl=1')"
   ]
  },
  {
   "cell_type": "code",
   "execution_count": 2,
   "id": "37bbc683-8287-48eb-9bec-deae69c579a0",
   "metadata": {},
   "outputs": [
    {
     "data": {
      "text/plain": [
       "AnnData object with n_obs × n_vars = 27436 × 43878\n",
       "    obs: 'cid', 'seq_tech', 'donor_ID', 'donor_gender', 'donor_age', 'donor_status', 'original_name', 'organ', 'region', 'subregion', 'sample_status', 'treatment', 'ethnicity', 'cell_type', 'cell_id', 'study_id'\n",
       "    var: 'vst.mean', 'vst.variance', 'vst.variance.expected', 'vst.variance.standardized', 'vst.variable'\n",
       "    obsm: 'umap'"
      ]
     },
     "execution_count": 2,
     "metadata": {},
     "output_type": "execute_result"
    }
   ],
   "source": [
    "adata = sc.read('liver_test.h5ad')\n",
    "adata"
   ]
  },
  {
   "cell_type": "markdown",
   "id": "93f56a85-91f8-4319-af9d-bce4fe030def",
   "metadata": {},
   "source": [
    "## 2. transform original h5ad with uniformed genes (42117 genes)"
   ]
  },
  {
   "cell_type": "markdown",
   "id": "24e23a65-0709-4454-bf71-41fbac96df57",
   "metadata": {},
   "source": [
    "This step transform the genes in input adata to 42117 gene symbols and reserves the corresponding gene expression values."
   ]
  },
  {
   "cell_type": "code",
   "execution_count": null,
   "id": "90c52bec-48bc-407c-b049-84cf80139ca2",
   "metadata": {},
   "outputs": [],
   "source": [
    "adata_GS_uniformed = GeneSymbolUniform(input_adata=adata,\n",
    "                                 output_dir=\"Data/\",\n",
    "                                 output_prefix='liver')"
   ]
  },
  {
   "cell_type": "markdown",
   "id": "4d18e09f-9455-4c57-8fa4-90edd3eb657b",
   "metadata": {},
   "source": [
    "## 3. process uniformed data (simply norm and log1p)"
   ]
  },
  {
   "cell_type": "code",
   "execution_count": 3,
   "id": "4ef59ab0",
   "metadata": {},
   "outputs": [],
   "source": [
    "## you can read the saved uniformed adata\n",
    "\n",
    "adata_GS_uniformed=sc.read_h5ad('Data/liver_uniformed.h5ad')"
   ]
  },
  {
   "cell_type": "code",
   "execution_count": 4,
   "id": "b2900bd0-466c-44e6-960d-784fe43cef91",
   "metadata": {},
   "outputs": [
    {
     "data": {
      "text/plain": [
       "AnnData object with n_obs × n_vars = 27436 × 42117\n",
       "    obs: 'cid', 'seq_tech', 'donor_ID', 'donor_gender', 'donor_age', 'donor_status', 'original_name', 'organ', 'region', 'subregion', 'sample_status', 'treatment', 'ethnicity', 'cell_type', 'cell_id', 'study_id'"
      ]
     },
     "execution_count": 4,
     "metadata": {},
     "output_type": "execute_result"
    }
   ],
   "source": [
    "adata_GS_uniformed"
   ]
  },
  {
   "cell_type": "code",
   "execution_count": 5,
   "id": "757284f8-53da-40dc-8cec-70f4368eed00",
   "metadata": {},
   "outputs": [],
   "source": [
    "# norm and log1p count matrix\n",
    "if adata_GS_uniformed.X.max() > 10:\n",
    "    sc.pp.normalize_total(adata_GS_uniformed, target_sum=1e4) \n",
    "    sc.pp.log1p(adata_GS_uniformed)"
   ]
  },
  {
   "cell_type": "markdown",
   "id": "da2c2eba-8acb-4203-96df-e1211727518d",
   "metadata": {},
   "source": [
    "## 4. load scMulan"
   ]
  },
  {
   "cell_type": "code",
   "execution_count": 6,
   "id": "54938208-cf4e-4be1-8ac4-b7b9f6c21b07",
   "metadata": {},
   "outputs": [],
   "source": [
    "# you should first download ckpt from https://cloud.tsinghua.edu.cn/f/2250c5df51034b2e9a85/?dl=1\n",
    "# put it under .ckpt/ckpt_scMulan.pt\n",
    "# by: wget https://cloud.tsinghua.edu.cn/f/2250c5df51034b2e9a85/?dl=1  -O ckpt/ckpt_scMulan.pt\n",
    "\n",
    "ckp_path = 'ckpt/ckpt_scMulan.pt'"
   ]
  },
  {
   "cell_type": "code",
   "execution_count": 7,
   "id": "c0ad4366-fc66-49f6-858c-945968acad3b",
   "metadata": {
    "scrolled": true
   },
   "outputs": [
    {
     "name": "stderr",
     "output_type": "stream",
     "text": [
      "\u001b[32m2024-10-02 17:40:25.153\u001b[0m | \u001b[1mINFO    \u001b[0m | \u001b[36mscMulan.model.model\u001b[0m:\u001b[36m__init__\u001b[0m:\u001b[36m119\u001b[0m - \u001b[1mnumber of parameters: 368.80M\u001b[0m\n"
     ]
    },
    {
     "name": "stdout",
     "output_type": "stream",
     "text": [
      "✅ adata passed check\n",
      "👸 scMulan is ready\n",
      "scMulan is currently available to 0 GPUs.\n"
     ]
    }
   ],
   "source": [
    "scml = scMulan.model_inference(ckp_path, adata_GS_uniformed)\n",
    "base_process = scml.cuda_count()"
   ]
  },
  {
   "cell_type": "code",
   "execution_count": 8,
   "id": "9c7ed5a1",
   "metadata": {},
   "outputs": [
    {
     "data": {
      "text/plain": [
       "False"
      ]
     },
     "execution_count": 8,
     "metadata": {},
     "output_type": "execute_result"
    }
   ],
   "source": [
    "import torch\n",
    "\n",
    "torch.cuda.is_available()"
   ]
  },
  {
   "cell_type": "code",
   "execution_count": null,
   "id": "296fc724",
   "metadata": {},
   "outputs": [],
   "source": []
  },
  {
   "cell_type": "code",
   "execution_count": null,
   "id": "38b031e3-9199-4227-b7eb-3f40e1cec035",
   "metadata": {},
   "outputs": [],
   "source": [
    "scml.get_cell_types_and_embds_for_adata(parallel=True, n_process = base_process)\n",
    "# scml.get_cell_types_and_embds_for_adata(parallel=False) # for only using CPU, but it is really slow."
   ]
  },
  {
   "cell_type": "markdown",
   "id": "72281172-4a1d-4331-aaf3-a41570a2dc9b",
   "metadata": {},
   "source": [
    "The predicted cell types are stored in scml.adata.obs['cell_type_from_scMulan'], besides the cell embeddings (for multibatch integration) in scml.adata.obsm['X_scMulan'] (not used in this tutorial)."
   ]
  },
  {
   "cell_type": "markdown",
   "id": "6bd3ef80-a78e-4b15-9149-018fe47a154a",
   "metadata": {},
   "source": [
    "## 5. visualization"
   ]
  },
  {
   "cell_type": "code",
   "execution_count": 13,
   "id": "81e39681-85bb-44b1-bf3e-06e0894d18ec",
   "metadata": {},
   "outputs": [],
   "source": [
    "adata_mulan = scml.adata.copy()"
   ]
  },
  {
   "cell_type": "code",
   "execution_count": null,
   "id": "f53fb15c-84c5-47cb-a638-f3761bf02239",
   "metadata": {
    "scrolled": true
   },
   "outputs": [],
   "source": [
    "sc.pp.pca(adata_mulan)\n",
    "sc.pl.pca_variance_ratio(adata_mulan)\n",
    "sc.pp.neighbors(adata_mulan,n_pcs=10)\n",
    "sc.tl.umap(adata_mulan)"
   ]
  },
  {
   "cell_type": "code",
   "execution_count": null,
   "id": "8e0ba751-3f84-47e5-9399-9456b54251c1",
   "metadata": {},
   "outputs": [],
   "source": [
    "# you can run smoothing function to filter the false positives\n",
    "scMulan.cell_type_smoothing(adata_mulan, threshold=0.1)"
   ]
  },
  {
   "cell_type": "code",
   "execution_count": null,
   "id": "334f2a80-1823-4751-a9c7-b7ec8adb64ac",
   "metadata": {
    "scrolled": true
   },
   "outputs": [],
   "source": [
    "# cell_type_from_scMulan: pred\n",
    "# cell_type_from_mulan_smoothing: pred+smoothing\n",
    "# original_name: original annotations by the authors\n",
    "# cell_type: cell types in hECA-10M that maps original_name to uHAF\n",
    "\n",
    "sc.pl.umap(adata_mulan,color=[\"cell_type_from_scMulan\",\"cell_type_from_mulan_smoothing\",'cell_type','original_name'],ncols=1)"
   ]
  },
  {
   "cell_type": "code",
   "execution_count": 17,
   "id": "663fa44f-5b63-4a65-a90c-4dc8a6dddbed",
   "metadata": {},
   "outputs": [],
   "source": [
    "top_celltypes = adata_mulan.obs.cell_type_from_scMulan.value_counts().index[:20]"
   ]
  },
  {
   "cell_type": "code",
   "execution_count": null,
   "id": "56d19267-d0ca-4700-ae98-15c74a70d155",
   "metadata": {
    "scrolled": true
   },
   "outputs": [],
   "source": [
    "# you can select some cell types of interest (from scMulan's prediction) for visulization\n",
    "# selected_cell_types = [\"NK cell\", \"Kupffer cell\", \"Conventional dendritic cell 2\"] # as example\n",
    "selected_cell_types = top_celltypes\n",
    "scMulan.visualize_selected_cell_types(adata_mulan,selected_cell_types,smoothing=True)"
   ]
  },
  {
   "cell_type": "code",
   "execution_count": null,
   "id": "53597c46-8fe9-4af2-9d00-e23722ae52ee",
   "metadata": {},
   "outputs": [],
   "source": []
  }
 ],
 "metadata": {
  "kernelspec": {
   "display_name": "base",
   "language": "python",
   "name": "python3"
  },
  "language_info": {
   "codemirror_mode": {
    "name": "ipython",
    "version": 3
   },
   "file_extension": ".py",
   "mimetype": "text/x-python",
   "name": "python",
   "nbconvert_exporter": "python",
   "pygments_lexer": "ipython3",
   "version": "3.12.4"
  }
 },
 "nbformat": 4,
 "nbformat_minor": 5
}
